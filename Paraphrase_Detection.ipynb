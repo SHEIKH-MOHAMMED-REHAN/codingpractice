{
  "nbformat": 4,
  "nbformat_minor": 0,
  "metadata": {
    "colab": {
      "provenance": [],
      "authorship_tag": "ABX9TyPT4ettmgRy/oh5AXgWaHiZ",
      "include_colab_link": true
    },
    "kernelspec": {
      "name": "python3",
      "display_name": "Python 3"
    },
    "language_info": {
      "name": "python"
    }
  },
  "cells": [
    {
      "cell_type": "markdown",
      "metadata": {
        "id": "view-in-github",
        "colab_type": "text"
      },
      "source": [
        "<a href=\"https://colab.research.google.com/github/SHEIKH-MOHAMMED-REHAN/codingpractice/blob/main/Paraphrase_Detection.ipynb\" target=\"_parent\"><img src=\"https://colab.research.google.com/assets/colab-badge.svg\" alt=\"Open In Colab\"/></a>"
      ]
    },
    {
      "cell_type": "code",
      "source": [
        "!pip install -q sentence-transformers\n"
      ],
      "metadata": {
        "id": "zT2Pb1V2paD7"
      },
      "execution_count": null,
      "outputs": []
    },
    {
      "cell_type": "code",
      "source": [
        "from sentence_transformers import SentenceTransformer, util\n",
        "\n",
        "# Load a small but powerful model\n",
        "model = SentenceTransformer('all-MiniLM-L6-v2')  # lightweight and fast\n"
      ],
      "metadata": {
        "id": "xLWF0Z3L2Ge3"
      },
      "execution_count": null,
      "outputs": []
    },
    {
      "cell_type": "code",
      "source": [
        "def check_paraphrase(sent1, sent2, threshold=0.7):\n",
        "    embeddings = model.encode([sent1, sent2], convert_to_tensor=True)\n",
        "    similarity = util.pytorch_cos_sim(embeddings[0], embeddings[1]).item()\n",
        "\n",
        "    print(f\"\\nSentence 1: {sent1}\")\n",
        "    print(f\"Sentence 2: {sent2}\")\n",
        "    print(f\"Similarity Score: {similarity:.4f}\")\n",
        "\n",
        "    if similarity > threshold:\n",
        "        print(\"✓ These are paraphrases.\\n\")\n",
        "    else:\n",
        "        print(\"✗ These are NOT paraphrases.\\n\")\n"
      ],
      "metadata": {
        "id": "V_6iarNL2ZPj"
      },
      "execution_count": null,
      "outputs": []
    },
    {
      "cell_type": "code",
      "source": [
        "check_paraphrase(\"He went home\", \"He returned to his house\")\n",
        "check_paraphrase(\"I like tea\", \"I prefer coffee\")\n",
        "check_paraphrase(\"The cat is sleeping\", \"A dog is barking\")\n",
        "check_paraphrase(\"He completed his homework\", \"He finished his assignment\")\n"
      ],
      "metadata": {
        "id": "eZVmdgAH28Zn"
      },
      "execution_count": null,
      "outputs": []
    },
    {
      "cell_type": "code",
      "source": [],
      "metadata": {
        "id": "4ronjWJT2_Tv"
      },
      "execution_count": null,
      "outputs": []
    }
  ]
}